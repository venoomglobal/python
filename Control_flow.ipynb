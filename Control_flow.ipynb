{
 "cells": [
  {
   "cell_type": "markdown",
   "id": "ef99e5a5-c1c2-419e-8100-d38769b7ff66",
   "metadata": {},
   "source": [
    "# Control Flow\n"
   ]
  },
  {
   "cell_type": "markdown",
   "id": "be357847-b030-402c-ad43-9ec3df002f2c",
   "metadata": {},
   "source": [
    "## If / Else Statement\n"
   ]
  },
  {
   "cell_type": "code",
   "execution_count": 7,
   "id": "267c0ee9-611c-4757-a819-ad7776426810",
   "metadata": {},
   "outputs": [
    {
     "name": "stdout",
     "output_type": "stream",
     "text": [
      "It is True\n",
      "False\n",
      "False\n"
     ]
    }
   ],
   "source": [
    "a = True\n",
    "if a: \n",
    "    print('It is',a )\n",
    "    a = False\n",
    "    print(a)\n",
    "else:\n",
    "    print('It is ', not a )\n",
    "    a = False\n",
    "print(a)"
   ]
  },
  {
   "cell_type": "code",
   "execution_count": null,
   "id": "969e1545-3521-4ffa-8765-9e6763742a6b",
   "metadata": {},
   "outputs": [],
   "source": []
  },
  {
   "cell_type": "code",
   "execution_count": null,
   "id": "8a4d2b94-ce6d-4340-b1e9-edf767088845",
   "metadata": {},
   "outputs": [],
   "source": []
  },
  {
   "cell_type": "markdown",
   "id": "94fbfbe3-ccf6-4864-b499-36e099665cce",
   "metadata": {},
   "source": [
    "## For Loops"
   ]
  },
  {
   "cell_type": "code",
   "execution_count": 1,
   "id": "b495f857-8b4c-4e9e-bc46-7a024c8b56cb",
   "metadata": {},
   "outputs": [
    {
     "name": "stdout",
     "output_type": "stream",
     "text": [
      "1\n",
      "2\n",
      "3\n",
      "4\n",
      "5\n"
     ]
    }
   ],
   "source": [
    "a = [1, 2, 3, 4, 5]\n",
    "for i in a:\n",
    "    print(i)"
   ]
  },
  {
   "cell_type": "code",
   "execution_count": null,
   "id": "d2fac206-7ca3-4336-9042-5595c9f4df88",
   "metadata": {},
   "outputs": [],
   "source": [
    "4 in a"
   ]
  },
  {
   "cell_type": "code",
   "execution_count": null,
   "id": "2b95af89-3e5a-4dd4-9fb4-170f77486fa0",
   "metadata": {},
   "outputs": [],
   "source": []
  },
  {
   "cell_type": "code",
   "execution_count": null,
   "id": "cd2fc406-9f0c-4bc7-b66a-cbfd78420045",
   "metadata": {},
   "outputs": [],
   "source": []
  },
  {
   "cell_type": "markdown",
   "id": "95aab74b-949b-4702-bcd5-c5082810078a",
   "metadata": {},
   "source": [
    "## While Loops"
   ]
  },
  {
   "cell_type": "code",
   "execution_count": 11,
   "id": "710a97b9-e679-4fcd-b4b7-f34a03287327",
   "metadata": {},
   "outputs": [],
   "source": [
    "#Use while loop when conditions are changing"
   ]
  },
  {
   "cell_type": "code",
   "execution_count": 3,
   "id": "eb6dbca1-53fa-47b7-805e-67c4f1bb50ed",
   "metadata": {},
   "outputs": [
    {
     "name": "stdout",
     "output_type": "stream",
     "text": [
      "True\n"
     ]
    }
   ],
   "source": [
    "a = True\n",
    "while a == True:\n",
    "    print(a)\n",
    "    a = False"
   ]
  },
  {
   "cell_type": "code",
   "execution_count": 11,
   "id": "92540756-c377-44b0-8e5a-b2283800d297",
   "metadata": {},
   "outputs": [
    {
     "name": "stdout",
     "output_type": "stream",
     "text": [
      "0\n",
      "1\n",
      "2\n"
     ]
    }
   ],
   "source": [
    "a = 0\n",
    "while a  < 3 :\n",
    "    print(a)\n",
    "    a = a + 1\n",
    "   \n",
    "    "
   ]
  },
  {
   "cell_type": "code",
   "execution_count": 12,
   "id": "932ecc1e-199d-4d3d-93f7-74b47eac5798",
   "metadata": {},
   "outputs": [
    {
     "name": "stdout",
     "output_type": "stream",
     "text": [
      "0 * 0 = 0\n",
      "1 * 1 = 1\n",
      "2 * 2 = 4\n",
      "3 * 3 = 9\n",
      "4 * 4 = 16\n",
      "5 * 5 = 25\n",
      "6 * 6 = 36\n",
      "7 * 7 = 49\n",
      "8 * 8 = 64\n",
      "9 * 9 = 81\n"
     ]
    }
   ],
   "source": [
    "a = 0\n",
    "b = 0\n",
    "\n",
    "while a < 10 and b < 10:\n",
    "    print (a, '*', b, '=', a * b)\n",
    "    a +=1\n",
    "    b += 1"
   ]
  },
  {
   "cell_type": "code",
   "execution_count": null,
   "id": "352feb5c-6c06-4972-8f5e-b816ad7c0f23",
   "metadata": {},
   "outputs": [],
   "source": []
  }
 ],
 "metadata": {
  "kernelspec": {
   "display_name": "Python 3 (ipykernel)",
   "language": "python",
   "name": "python3"
  },
  "language_info": {
   "codemirror_mode": {
    "name": "ipython",
    "version": 3
   },
   "file_extension": ".py",
   "mimetype": "text/x-python",
   "name": "python",
   "nbconvert_exporter": "python",
   "pygments_lexer": "ipython3",
   "version": "3.11.4"
  }
 },
 "nbformat": 4,
 "nbformat_minor": 5
}
