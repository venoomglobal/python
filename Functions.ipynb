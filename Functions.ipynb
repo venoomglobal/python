{
 "cells": [
  {
   "cell_type": "markdown",
   "id": "b9c1f850-32d6-4b20-874d-60adc191328d",
   "metadata": {},
   "source": [
    "# Functions"
   ]
  },
  {
   "cell_type": "markdown",
   "id": "34ff0b15-66b9-4a76-b330-e14d3fcb0ed4",
   "metadata": {},
   "source": [
    "## Value returning function"
   ]
  },
  {
   "cell_type": "code",
   "execution_count": 1,
   "id": "df4a9c0e-2835-4c6a-be2a-1806d23dcd46",
   "metadata": {},
   "outputs": [
    {
     "data": {
      "text/plain": [
       "12"
      ]
     },
     "execution_count": 1,
     "metadata": {},
     "output_type": "execute_result"
    }
   ],
   "source": [
    "def multiply(val):\n",
    "    return 3 * val\n",
    "multiply(4)\n"
   ]
  },
  {
   "cell_type": "markdown",
   "id": "33a2a292-ea61-4fec-aa4d-aee31425885e",
   "metadata": {},
   "source": [
    "## Function that takes more than one argument\n"
   ]
  },
  {
   "cell_type": "code",
   "execution_count": 2,
   "id": "de12ce63-3446-4d88-a68a-528ed546935e",
   "metadata": {},
   "outputs": [
    {
     "data": {
      "text/plain": [
       "7"
      ]
     },
     "execution_count": 2,
     "metadata": {},
     "output_type": "execute_result"
    }
   ],
   "source": [
    "def add(x, y):\n",
    "    return x + y\n",
    "add(5, 2)"
   ]
  },
  {
   "cell_type": "markdown",
   "id": "f7526c8c-82cd-4b09-8b2d-70fbe37bd526",
   "metadata": {},
   "source": [
    "## Functions that have special purpose"
   ]
  },
  {
   "cell_type": "code",
   "execution_count": 4,
   "id": "2cd7776b-99d2-4051-977e-9fc2ac9d620d",
   "metadata": {},
   "outputs": [
    {
     "name": "stdout",
     "output_type": "stream",
     "text": [
      "[1, 2, 3, 4]\n"
     ]
    }
   ],
   "source": [
    "a = [1, 2, 3]\n",
    "\n",
    "def appendValue(list):\n",
    "    list.append(4)\n",
    "\n",
    "appendValue(a)\n",
    "print(a)"
   ]
  },
  {
   "cell_type": "code",
   "execution_count": null,
   "id": "badfd990-ddb8-47db-af58-927156c03f0c",
   "metadata": {},
   "outputs": [],
   "source": []
  },
  {
   "cell_type": "code",
   "execution_count": null,
   "id": "6f4fede2-e70e-4bf4-9a00-8c146a7a9128",
   "metadata": {},
   "outputs": [],
   "source": []
  },
  {
   "cell_type": "code",
   "execution_count": null,
   "id": "016a1121-7a84-4091-ab50-52db7090581d",
   "metadata": {},
   "outputs": [],
   "source": []
  }
 ],
 "metadata": {
  "kernelspec": {
   "display_name": "Python 3 (ipykernel)",
   "language": "python",
   "name": "python3"
  },
  "language_info": {
   "codemirror_mode": {
    "name": "ipython",
    "version": 3
   },
   "file_extension": ".py",
   "mimetype": "text/x-python",
   "name": "python",
   "nbconvert_exporter": "python",
   "pygments_lexer": "ipython3",
   "version": "3.11.4"
  }
 },
 "nbformat": 4,
 "nbformat_minor": 5
}
