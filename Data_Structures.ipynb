{
 "cells": [
  {
   "cell_type": "markdown",
   "id": "9f6643b2-5d47-42bb-bc51-d5e50b04a8c9",
   "metadata": {},
   "source": [
    "# Data Structure \n",
    "\n",
    "## Lists"
   ]
  },
  {
   "cell_type": "code",
   "execution_count": 5,
   "id": "f9c1afcb-8e6a-487b-87b6-ef12f63d2c80",
   "metadata": {},
   "outputs": [
    {
     "name": "stdout",
     "output_type": "stream",
     "text": [
      "[1, 2, 3, 4]\n"
     ]
    }
   ],
   "source": [
    "my_list = [1,2,3,4]\n",
    "\n",
    "print(my_list)"
   ]
  },
  {
   "cell_type": "markdown",
   "id": "50b68974-64f7-49ff-b3cb-1fad4ffd7b24",
   "metadata": {},
   "source": [
    "\n"
   ]
  },
  {
   "cell_type": "code",
   "execution_count": 7,
   "id": "26a48366-3783-4a23-8c1f-34d40bd2fdb4",
   "metadata": {},
   "outputs": [
    {
     "data": {
      "text/plain": [
       "3"
      ]
     },
     "execution_count": 7,
     "metadata": {},
     "output_type": "execute_result"
    }
   ],
   "source": [
    "words = [ \"List\", \"of\", \"strings\"]\n",
    "len(words)"
   ]
  },
  {
   "cell_type": "code",
   "execution_count": 8,
   "id": "0931cb0d-b661-417a-afaa-4f4a1c8e55e9",
   "metadata": {},
   "outputs": [
    {
     "name": "stdout",
     "output_type": "stream",
     "text": [
      "[[1, 2, 3], ['a', 'b', 'c']]\n"
     ]
    }
   ],
   "source": [
    "list_nested = [[1,2,3], ['a', 'b', 'c']]\n",
    "print(list_nested)"
   ]
  },
  {
   "cell_type": "code",
   "execution_count": 17,
   "id": "f1bed912-ab0d-4e26-a8f6-b73f73c0ada9",
   "metadata": {},
   "outputs": [],
   "source": [
    "words.append(\"hour\")"
   ]
  },
  {
   "cell_type": "code",
   "execution_count": 18,
   "id": "2dc7bc6a-b5cf-4201-9aba-551b2b3c4cd6",
   "metadata": {},
   "outputs": [
    {
     "name": "stdout",
     "output_type": "stream",
     "text": [
      "['List', 'of', 'strings', 'hour', 'hour']\n"
     ]
    }
   ],
   "source": [
    "print(words)"
   ]
  },
  {
   "cell_type": "code",
   "execution_count": null,
   "id": "c1735c3a-fdc5-43d8-8a93-7f4a5561879d",
   "metadata": {},
   "outputs": [],
   "source": []
  },
  {
   "cell_type": "markdown",
   "id": "9a9a164e-9a10-4de7-a473-b6a58c812d1e",
   "metadata": {},
   "source": [
    "# Sets "
   ]
  },
  {
   "cell_type": "code",
   "execution_count": 10,
   "id": "87ada8d8-2ebc-42e6-861e-da9f911b134e",
   "metadata": {},
   "outputs": [
    {
     "data": {
      "text/plain": [
       "set"
      ]
     },
     "execution_count": 10,
     "metadata": {},
     "output_type": "execute_result"
    }
   ],
   "source": [
    "myset = {1, 2, 3, 4 }\n",
    "type(myset)\n"
   ]
  },
  {
   "cell_type": "code",
   "execution_count": 11,
   "id": "8cab7b6f-d992-4dae-99d9-ddc02d1ce6d2",
   "metadata": {},
   "outputs": [
    {
     "data": {
      "text/plain": [
       "4"
      ]
     },
     "execution_count": 11,
     "metadata": {},
     "output_type": "execute_result"
    }
   ],
   "source": [
    "len(myset)"
   ]
  },
  {
   "cell_type": "code",
   "execution_count": 12,
   "id": "da57d355-9c0e-4003-998b-ae3f567bfc99",
   "metadata": {},
   "outputs": [
    {
     "name": "stdout",
     "output_type": "stream",
     "text": [
      "{1, 2, 3, 4}\n"
     ]
    }
   ],
   "source": [
    "print(myset)"
   ]
  },
  {
   "cell_type": "code",
   "execution_count": null,
   "id": "02f74535-4453-4d2e-bbcc-b69d23282cd9",
   "metadata": {},
   "outputs": [],
   "source": []
  },
  {
   "cell_type": "markdown",
   "id": "7a96b3d7-3290-4010-82d1-95da24655473",
   "metadata": {},
   "source": [
    "# Tuples \n"
   ]
  },
  {
   "cell_type": "code",
   "execution_count": 13,
   "id": "d621a86c-04ce-4d01-ac0e-d685fcfe5cb5",
   "metadata": {},
   "outputs": [],
   "source": [
    "my_tuple = (1,2,3) "
   ]
  },
  {
   "cell_type": "code",
   "execution_count": 14,
   "id": "f8dc7df2-2dfb-4268-b06b-b7e07e6b840e",
   "metadata": {},
   "outputs": [
    {
     "data": {
      "text/plain": [
       "3"
      ]
     },
     "execution_count": 14,
     "metadata": {},
     "output_type": "execute_result"
    }
   ],
   "source": [
    "len(my_tuple)"
   ]
  },
  {
   "cell_type": "code",
   "execution_count": 15,
   "id": "1e0b12f7-bbc6-431e-b794-88e087b2dafd",
   "metadata": {},
   "outputs": [
    {
     "data": {
      "text/plain": [
       "False"
      ]
     },
     "execution_count": 15,
     "metadata": {},
     "output_type": "execute_result"
    }
   ],
   "source": [
    "(1, 2) == (2, 1)"
   ]
  },
  {
   "cell_type": "markdown",
   "id": "fb4e2496-586e-493a-81ae-45e6c39035a7",
   "metadata": {},
   "source": [
    "# Dictionary"
   ]
  },
  {
   "cell_type": "code",
   "execution_count": 20,
   "id": "bae0e470-9b97-420f-8f0c-a660376eded9",
   "metadata": {},
   "outputs": [],
   "source": [
    "my_dict = { 'apple' : 'A rad fruit', \n",
    "           'bear' : 'A scary animal',\n",
    "           'python' : 'A snake' ,\n",
    "           'java' : 'Coffee' }"
   ]
  },
  {
   "cell_type": "code",
   "execution_count": 21,
   "id": "5005a29e-d73f-4832-98c8-9fe7fadb5e6b",
   "metadata": {},
   "outputs": [
    {
     "data": {
      "text/plain": [
       "'Coffee'"
      ]
     },
     "execution_count": 21,
     "metadata": {},
     "output_type": "execute_result"
    }
   ],
   "source": [
    "my_dict['java']"
   ]
  },
  {
   "cell_type": "code",
   "execution_count": null,
   "id": "fa737ace-7d8a-4a0c-9ef4-db3c1ef0403b",
   "metadata": {},
   "outputs": [],
   "source": []
  }
 ],
 "metadata": {
  "kernelspec": {
   "display_name": "Python 3 (ipykernel)",
   "language": "python",
   "name": "python3"
  },
  "language_info": {
   "codemirror_mode": {
    "name": "ipython",
    "version": 3
   },
   "file_extension": ".py",
   "mimetype": "text/x-python",
   "name": "python",
   "nbconvert_exporter": "python",
   "pygments_lexer": "ipython3",
   "version": "3.11.4"
  }
 },
 "nbformat": 4,
 "nbformat_minor": 5
}
