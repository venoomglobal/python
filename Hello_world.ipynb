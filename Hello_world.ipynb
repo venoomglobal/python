{
 "cells": [
  {
   "cell_type": "code",
   "execution_count": 5,
   "id": "4716c034-52f0-4752-bd85-2d785be071c0",
   "metadata": {},
   "outputs": [
    {
     "name": "stdout",
     "output_type": "stream",
     "text": [
      "Hello World\n"
     ]
    }
   ],
   "source": [
    "greeting = \"Hello World\"\n",
    "\n",
    "\n",
    "print(greeting)\n",
    "\n",
    "\n",
    "\n",
    "# greeting = \"Hello World\"\n",
    "\n",
    "\n",
    "greeting = \"Hello World\"\n"
   ]
  },
  {
   "cell_type": "code",
   "execution_count": null,
   "id": "1b3a218a-95d2-4e84-a284-ff4c55c2f120",
   "metadata": {},
   "outputs": [],
   "source": [
    "import matplotlib.pyplot as plt\n",
    "import numpy as np\n",
    "import pandas as pd\n",
    "\n"
   ]
  }
 ],
 "metadata": {
  "kernelspec": {
   "display_name": "Python 3 (ipykernel)",
   "language": "python",
   "name": "python3"
  },
  "language_info": {
   "codemirror_mode": {
    "name": "ipython",
    "version": 3
   },
   "file_extension": ".py",
   "mimetype": "text/x-python",
   "name": "python",
   "nbconvert_exporter": "python",
   "pygments_lexer": "ipython3",
   "version": "3.11.4"
  }
 },
 "nbformat": 4,
 "nbformat_minor": 5
}
